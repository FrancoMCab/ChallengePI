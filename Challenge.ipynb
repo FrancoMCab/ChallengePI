{
 "cells": [
  {
   "cell_type": "markdown",
   "id": "e882bab7",
   "metadata": {},
   "source": [
    "## Importamos librerias a utilizar"
   ]
  },
  {
   "cell_type": "code",
   "execution_count": null,
   "id": "e51da773",
   "metadata": {},
   "outputs": [],
   "source": [
    "import requests\n",
    "import pandas as pd\n",
    "from dotenv import load_dotenv\n",
    "import os\n",
    "from datetime import datetime\n",
    "from Conexion_DB import ConexionDB"
   ]
  },
  {
   "cell_type": "markdown",
   "id": "7dd87de7",
   "metadata": {},
   "source": [
    "## Variables de entorno a utilizar"
   ]
  },
  {
   "cell_type": "code",
   "execution_count": 118,
   "id": "07d02ccb",
   "metadata": {},
   "outputs": [],
   "source": [
    "load_dotenv()\n",
    "\n",
    "url_csv= os.getenv('URL')\n",
    "server= os.getenv('SQL_SERVER')\n",
    "db=os.getenv('SQL_DATABASE')\n",
    "user=os.getenv('SQL_USER')\n",
    "password=os.getenv('SQL_PASSWORD')\n",
    "usuario = os.getlogin()"
   ]
  },
  {
   "cell_type": "markdown",
   "id": "cd1f8b08",
   "metadata": {},
   "source": [
    "## Metodo para obtencion archivo CSV"
   ]
  },
  {
   "cell_type": "code",
   "execution_count": 119,
   "id": "4715b1ea",
   "metadata": {},
   "outputs": [],
   "source": [
    "def obtener_archivo(url,ruta):\n",
    "    response= requests.get(url)\n",
    "    if response.status_code == 200:\n",
    "        with open(ruta,\"wb\") as documento:\n",
    "            documento.write(response.content)\n",
    "        print(f'Archivo descargado con exito y guardado en: {ruta}')\n",
    "        return None\n",
    "    else:\n",
    "        print(f'Error al descargar el archivo, codigo del error : {response.status_code}')\n",
    "        return None\n"
   ]
  },
  {
   "cell_type": "markdown",
   "id": "e1befd5f",
   "metadata": {},
   "source": [
    "## Guardado del archivo csv origen"
   ]
  },
  {
   "cell_type": "code",
   "execution_count": 120,
   "id": "14f2150a",
   "metadata": {},
   "outputs": [
    {
     "name": "stdout",
     "output_type": "stream",
     "text": [
      "Archivo descargado con exito y guardado en: f:\\Proyectos\\ChallengePI\\Documentos\\2025\\7\\Nuevos_registros_25-07-02.csv\n"
     ]
    }
   ],
   "source": [
    "fecha_hoy= datetime.now().strftime(\"%y-%m-%d\")\n",
    "anio= datetime.now().year\n",
    "mes= datetime.now().month\n",
    "\n",
    "nombre_csv= f\"Nuevos_registros_{fecha_hoy}.csv\"\n",
    "\n",
    "ruta= os.path.join(os.getcwd(), f'Documentos\\\\{anio}\\\\{mes}')\n",
    "ruta_final= os.path.join(ruta,nombre_csv)\n",
    "\n",
    "os.makedirs(ruta,exist_ok=True)\n",
    "obtener_archivo(url_csv,ruta_final)"
   ]
  },
  {
   "cell_type": "markdown",
   "id": "44685223",
   "metadata": {},
   "source": [
    "## Metodo para limpieza de datos "
   ]
  },
  {
   "cell_type": "code",
   "execution_count": 121,
   "id": "1a4919a9",
   "metadata": {},
   "outputs": [],
   "source": [
    "def limpieza_datos(ruta):\n",
    "    df_csv=pd.read_csv(ruta)\n",
    "    df_csv['FECHA_COPIA'] = datetime.now().strftime(\"%Y-%m-%d %H:%M:%S.%f\")[:-3]\n",
    "    df_final= df_csv.drop_duplicates(subset=['ID','MUESTRA','RESULTADO'], keep='last')\n",
    "    registros=df_final.shape[0]\n",
    "    return df_final,registros"
   ]
  },
  {
   "cell_type": "code",
   "execution_count": 122,
   "id": "f84c04d7",
   "metadata": {},
   "outputs": [],
   "source": [
    "df,Registros_Archivo= limpieza_datos(ruta_final)"
   ]
  },
  {
   "cell_type": "markdown",
   "id": "58988ccb",
   "metadata": {},
   "source": [
    "## Conexion a DB y Carga de datos"
   ]
  },
  {
   "cell_type": "code",
   "execution_count": 123,
   "id": "c7594ce0",
   "metadata": {},
   "outputs": [],
   "source": [
    "conexion = ConexionDB()\n",
    "conn = conexion.conectar()"
   ]
  },
  {
   "cell_type": "code",
   "execution_count": 124,
   "id": "e7b01371",
   "metadata": {},
   "outputs": [],
   "source": [
    "cursor = conn.cursor()\n",
    "cursor.execute(\"SELECT COUNT(*) FROM [Testing_ETL].[dbo].[Unificado_test];\")\n",
    "total_registros= cursor.fetchone()[0]"
   ]
  },
  {
   "cell_type": "code",
   "execution_count": 125,
   "id": "c88e69a5",
   "metadata": {},
   "outputs": [
    {
     "data": {
      "text/plain": [
       "<pyodbc.Cursor at 0x2312f44dc30>"
      ]
     },
     "execution_count": 125,
     "metadata": {},
     "output_type": "execute_result"
    }
   ],
   "source": [
    "cursor.execute(\"\"\"\n",
    "IF NOT EXISTS (SELECT * FROM tempdb.sys.tables WHERE name = 'Accion')\n",
    "BEGIN\n",
    "    CREATE TABLE #Accion (\n",
    "        Tipo NVARCHAR(10),\n",
    "        ID NVARCHAR(50),\n",
    "        MUESTRA NVARCHAR(50),\n",
    "        RESULTADO NVARCHAR(50)\n",
    "    );\n",
    "END;\n",
    "\"\"\")"
   ]
  },
  {
   "cell_type": "code",
   "execution_count": null,
   "id": "a3cedf98",
   "metadata": {},
   "outputs": [],
   "source": [
    "fecha_inicio_Proceso= datetime.now().strftime(\"%Y-%m-%d %H:%M:%S.%f\")[:-3]\n",
    "for index, row in df.iterrows():\n",
    "    set_values = ', '.join([f\"{col} = '{row[col]}'\" if isinstance(row[col], str) else f\"{col} = {row[col]}\" for col in df.columns])\n",
    "    \n",
    "    query = f\"\"\"\n",
    "    MERGE INTO [Testing_ETL].[dbo].[Unificado_Test] AS target\n",
    "    USING (SELECT '{row['ID']}' AS ID, '{row['MUESTRA']}' AS MUESTRA, '{row['RESULTADO']}' AS RESULTADO) AS source\n",
    "    ON target.ID = source.ID AND target.MUESTRA = source.MUESTRA AND target.RESULTADO = source.RESULTADO\n",
    "    WHEN MATCHED THEN\n",
    "        UPDATE SET {set_values}\n",
    "    WHEN NOT MATCHED THEN\n",
    "        INSERT ({', '.join(df.columns)}) VALUES ({', '.join([f\"'{x}'\" if isinstance(x, str) else str(x) for x in row])})\n",
    "    OUTPUT $action AS Tipo, inserted.ID, inserted.MUESTRA, inserted.RESULTADO INTO #Accion;\n",
    "    \"\"\"\n",
    "\n",
    "    cursor.execute(query)\n",
    "fecha_Fin_Proceso= datetime.now().strftime(\"%Y-%m-%d %H:%M:%S.%f\")[:-3]"
   ]
  },
  {
   "cell_type": "code",
   "execution_count": 127,
   "id": "d67c416c",
   "metadata": {},
   "outputs": [],
   "source": [
    "cursor.execute(\"SELECT COUNT(*) FROM #Accion WHERE Tipo = 'INSERT';\")\n",
    "insertados = cursor.fetchone()[0]\n",
    "\n",
    "\n",
    "cursor.execute(\"SELECT COUNT(*) FROM #Accion WHERE Tipo = 'UPDATE';\")\n",
    "Actualizados = cursor.fetchone()[0]\n"
   ]
  },
  {
   "cell_type": "code",
   "execution_count": 128,
   "id": "dcd65b99",
   "metadata": {},
   "outputs": [
    {
     "data": {
      "text/plain": [
       "<pyodbc.Cursor at 0x2312f44dc30>"
      ]
     },
     "execution_count": 128,
     "metadata": {},
     "output_type": "execute_result"
    }
   ],
   "source": [
    "querylog = f\"\"\"\n",
    "INSERT INTO [dbo].[logs_Unificado_Test] (Archivo, Registro_Tabla, Registros_Archivo,Insertados,Actualizados,Fecha_Inicio_Proceso,Fecha_Fin_Proceso,usuario)\n",
    "VALUES (?,?,?,?,?,?,?,?)\n",
    "\"\"\"\n",
    "cursor.execute(querylog, nombre_csv, total_registros, Registros_Archivo,insertados,Actualizados,fecha_inicio_Proceso,fecha_Fin_Proceso,usuario)"
   ]
  },
  {
   "cell_type": "code",
   "execution_count": 129,
   "id": "5b0218b3",
   "metadata": {},
   "outputs": [],
   "source": [
    "conn.commit()\n",
    "cursor.close()\n",
    "conexion.cerrar()"
   ]
  }
 ],
 "metadata": {
  "kernelspec": {
   "display_name": "Python 3",
   "language": "python",
   "name": "python3"
  },
  "language_info": {
   "codemirror_mode": {
    "name": "ipython",
    "version": 3
   },
   "file_extension": ".py",
   "mimetype": "text/x-python",
   "name": "python",
   "nbconvert_exporter": "python",
   "pygments_lexer": "ipython3",
   "version": "3.12.9"
  }
 },
 "nbformat": 4,
 "nbformat_minor": 5
}
